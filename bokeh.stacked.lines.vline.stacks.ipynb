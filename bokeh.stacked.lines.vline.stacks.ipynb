{
 "cells": [
  {
   "cell_type": "code",
   "execution_count": 1,
   "id": "8389bf71",
   "metadata": {},
   "outputs": [],
   "source": [
    "from bokeh.models import ColumnDataSource\n",
    "from bokeh.plotting import figure, output_file, show"
   ]
  },
  {
   "cell_type": "code",
   "execution_count": 2,
   "id": "a4144796",
   "metadata": {},
   "outputs": [],
   "source": [
    "output_file(\"vline_stack.html\")"
   ]
  },
  {
   "cell_type": "code",
   "execution_count": 3,
   "id": "28d024b5",
   "metadata": {},
   "outputs": [],
   "source": [
    "source = ColumnDataSource(data=dict(\n",
    "    x=[1, 2, 3, 4, 5],\n",
    "    y1=[1, 2, 4, 3, 4],\n",
    "    y2=[1, 4, 2, 2, 3],\n",
    "))"
   ]
  },
  {
   "cell_type": "code",
   "execution_count": 4,
   "id": "aa772272",
   "metadata": {},
   "outputs": [],
   "source": [
    "p = figure(width=400, height=400)"
   ]
  },
  {
   "cell_type": "code",
   "execution_count": 7,
   "id": "1404583a",
   "metadata": {},
   "outputs": [
    {
     "data": {
      "text/plain": [
       "[GlyphRenderer(id='1198', ...), GlyphRenderer(id='1215', ...)]"
      ]
     },
     "execution_count": 7,
     "metadata": {},
     "output_type": "execute_result"
    }
   ],
   "source": [
    "p.vline_stack(['y1', 'y2'], x='x', source=source)"
   ]
  },
  {
   "cell_type": "code",
   "execution_count": 8,
   "id": "b5ff6c54",
   "metadata": {},
   "outputs": [],
   "source": [
    "show(p)"
   ]
  },
  {
   "cell_type": "code",
   "execution_count": null,
   "id": "8dc2dd27",
   "metadata": {},
   "outputs": [],
   "source": []
  }
 ],
 "metadata": {
  "kernelspec": {
   "display_name": "Python 3 (ipykernel)",
   "language": "python",
   "name": "python3"
  },
  "language_info": {
   "codemirror_mode": {
    "name": "ipython",
    "version": 3
   },
   "file_extension": ".py",
   "mimetype": "text/x-python",
   "name": "python",
   "nbconvert_exporter": "python",
   "pygments_lexer": "ipython3",
   "version": "3.8.7"
  }
 },
 "nbformat": 4,
 "nbformat_minor": 5
}
